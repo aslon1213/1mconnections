{
  "nbformat": 4,
  "nbformat_minor": 0,
  "metadata": {
    "colab": {
      "name": "Multi-Tacotron-Voice-Cloning.ipynb",
      "provenance": [],
      "collapsed_sections": []
    },
    "kernelspec": {
      "name": "python3",
      "display_name": "Python 3"
    },
    "accelerator": "GPU"
  },
  "cells": [
    {
      "cell_type": "markdown",
      "metadata": {
        "id": "6yk3PMfBuZhS",
        "colab_type": "text"
      },
      "source": [
        "Make sure GPU is enabled\n",
        "Runtime -> Change Runtime Type -> Hardware Accelerator -> GPU"
      ]
    },
    {
      "cell_type": "code",
      "metadata": {
        "id": "JlHlyIk9MLtR",
        "colab_type": "code",
        "colab": {}
      },
      "source": [
        "%tensorflow_version 2.x\n",
        "!pip uninstall -y tensorflow\n",
        "!pip install tensorflow-gpu==1.14.0"
      ],
      "execution_count": 0,
      "outputs": []
    },
    {
      "cell_type": "code",
      "metadata": {
        "id": "qhunyJSod_UT",
        "colab_type": "code",
        "colab": {}
      },
      "source": [
        "!git clone https://github.com/vlomme/Multi-Tacotron-Voice-Cloning.git"
      ],
      "execution_count": 0,
      "outputs": []
    },
    {
      "cell_type": "code",
      "metadata": {
        "id": "pE6btDZWeFV0",
        "colab_type": "code",
        "colab": {}
      },
      "source": [
        "cd Multi-Tacotron-Voice-Cloning/"
      ],
      "execution_count": 0,
      "outputs": []
    },
    {
      "cell_type": "code",
      "metadata": {
        "id": "0AVd9vLKeKm6",
        "colab_type": "code",
        "colab": {}
      },
      "source": [
        "!pip install -r requirements.txt"
      ],
      "execution_count": 0,
      "outputs": []
    },
    {
      "cell_type": "code",
      "metadata": {
        "id": "2920fqapzRoz",
        "colab_type": "code",
        "colab": {}
      },
      "source": [
        "!apt-get install libportaudio2"
      ],
      "execution_count": 0,
      "outputs": []
    },
    {
      "cell_type": "code",
      "metadata": {
        "id": "VuwgOQlPeN8a",
        "colab_type": "code",
        "colab": {}
      },
      "source": [
        "!gdown https://drive.google.com/uc?id=1aQBmpflbX_ePUdXTSNE4CfEL9hdG2-O8"
      ],
      "execution_count": 0,
      "outputs": []
    },
    {
      "cell_type": "code",
      "metadata": {
        "id": "vKLpYfRkfyjX",
        "colab_type": "code",
        "colab": {}
      },
      "source": [
        "!unzip pretrained.zip"
      ],
      "execution_count": 0,
      "outputs": []
    },
    {
      "cell_type": "code",
      "metadata": {
        "id": "YOiGYfpAf2qR",
        "colab_type": "code",
        "colab": {}
      },
      "source": [
        "!python demo_cli.py -p \"ex.wav\" -t \"Hello my friends. Я многоязычный синтез построенный на tacotron. Шла саша по шоссе и сосала сушку\" --no_sound"
      ],
      "execution_count": 0,
      "outputs": []
    },
    {
      "cell_type": "code",
      "metadata": {
        "id": "PyLdbUfks2lv",
        "colab_type": "code",
        "colab": {}
      },
      "source": [
        "import IPython.display as ipd\n",
        "print(\"original(оригинал)\")\n",
        "ipd.display(ipd.Audio('ex.wav'))#filepath to original voices (Путь до оригинального файла)\n",
        "print(\"cloned(клонированный)\")\n",
        "ipd.display(ipd.Audio('demo_output_00.wav'))#filepath to synthesized voices (Путь до синтезированного файла)"
      ],
      "execution_count": 0,
      "outputs": []
    }
  ]
}